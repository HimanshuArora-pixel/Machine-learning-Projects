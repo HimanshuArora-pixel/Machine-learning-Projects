{
  "nbformat": 4,
  "nbformat_minor": 0,
  "metadata": {
    "colab": {
      "provenance": [],
      "mount_file_id": "1G80oJLI515Qt4wenAlfpkKPMHZmM_tCQ",
      "authorship_tag": "ABX9TyOyb1NXwOLvpbjIwSwnJzDM",
      "include_colab_link": true
    },
    "kernelspec": {
      "name": "python3",
      "display_name": "Python 3"
    },
    "language_info": {
      "name": "python"
    }
  },
  "cells": [
    {
      "cell_type": "markdown",
      "metadata": {
        "id": "view-in-github",
        "colab_type": "text"
      },
      "source": [
        "<a href=\"https://colab.research.google.com/github/HimanshuArora-pixel/Machine-learning-Projects/blob/main/Submarine_project.ipynb\" target=\"_parent\"><img src=\"https://colab.research.google.com/assets/colab-badge.svg\" alt=\"Open In Colab\"/></a>"
      ]
    },
    {
      "cell_type": "markdown",
      "source": [
        "We are required to judge wether the object detected by sonar is a rock or Mine from the data given. we are given a training set containing about 60 feature values as inputs and 1 target value as output in end."
      ],
      "metadata": {
        "id": "I8-ch6bIMDG1"
      }
    },
    {
      "cell_type": "code",
      "source": [
        "!git clone https://github.com/HimanshuArora-pixel/Machine-learning-Projects.git\n",
        "\n",
        "!wget \"https://raw.githubusercontent.com/HimanshuArora-pixel/Machine-learning-Projects/refs/heads/Training-sets/Copy%20of%20sonar%20data.csv\"\n"
      ],
      "metadata": {
        "id": "2tNBy8RhMCyV",
        "colab": {
          "base_uri": "https://localhost:8080/"
        },
        "outputId": "6fb8bec8-7941-4219-e0df-06e15895b8b1"
      },
      "execution_count": 19,
      "outputs": [
        {
          "output_type": "stream",
          "name": "stdout",
          "text": [
            "fatal: destination path 'Machine-learning-Projects' already exists and is not an empty directory.\n",
            "--2025-09-29 23:39:40--  https://raw.githubusercontent.com/HimanshuArora-pixel/Machine-learning-Projects/refs/heads/Training-sets/Copy%20of%20sonar%20data.csv\n",
            "Resolving raw.githubusercontent.com (raw.githubusercontent.com)... 185.199.111.133, 185.199.110.133, 185.199.108.133, ...\n",
            "Connecting to raw.githubusercontent.com (raw.githubusercontent.com)|185.199.111.133|:443... connected.\n",
            "HTTP request sent, awaiting response... 200 OK\n",
            "Length: 87776 (86K) [text/plain]\n",
            "Saving to: ‘Copy of sonar data.csv.1’\n",
            "\n",
            "Copy of sonar data. 100%[===================>]  85.72K  --.-KB/s    in 0.07s   \n",
            "\n",
            "2025-09-29 23:39:40 (1.19 MB/s) - ‘Copy of sonar data.csv.1’ saved [87776/87776]\n",
            "\n"
          ]
        }
      ]
    },
    {
      "cell_type": "code",
      "execution_count": 20,
      "metadata": {
        "id": "aVWedQvoL1oG"
      },
      "outputs": [],
      "source": [
        "import numpy as np\n",
        "import pandas as pd"
      ]
    },
    {
      "cell_type": "markdown",
      "source": [
        "WE will take this training set from files thorugh pandas"
      ],
      "metadata": {
        "id": "Lg2rEh1YGO0m"
      }
    },
    {
      "cell_type": "code",
      "source": [
        "training_set = pd.read_csv('Copy of sonar data.csv', header = None)"
      ],
      "metadata": {
        "id": "euuGQgswf9ke"
      },
      "execution_count": 21,
      "outputs": []
    },
    {
      "cell_type": "code",
      "source": [
        "#viewing first 5 datas and seeing the size\n",
        "#training_set.head()\n",
        "training_set.shape"
      ],
      "metadata": {
        "id": "tqiHDqJkGAYD",
        "colab": {
          "base_uri": "https://localhost:8080/"
        },
        "outputId": "8c9d5cb5-2791-4cfc-8ed4-d92f6a8ab20d"
      },
      "execution_count": 22,
      "outputs": [
        {
          "output_type": "execute_result",
          "data": {
            "text/plain": [
              "(208, 61)"
            ]
          },
          "metadata": {},
          "execution_count": 22
        }
      ]
    },
    {
      "cell_type": "code",
      "source": [
        "X = training_set.drop(columns = 60, axis = 1)\n",
        "Y = training_set[60]"
      ],
      "metadata": {
        "id": "JB2teawMGATb"
      },
      "execution_count": 23,
      "outputs": []
    },
    {
      "cell_type": "code",
      "source": [
        "#checking number of rocks and mines in training set\n",
        "Y.value_counts()"
      ],
      "metadata": {
        "id": "L5dU09mCGAO0",
        "colab": {
          "base_uri": "https://localhost:8080/",
          "height": 178
        },
        "outputId": "04cd02bc-e40b-47e1-8722-4257c66ab9dc"
      },
      "execution_count": 24,
      "outputs": [
        {
          "output_type": "execute_result",
          "data": {
            "text/plain": [
              "60\n",
              "M    111\n",
              "R     97\n",
              "Name: count, dtype: int64"
            ],
            "text/html": [
              "<div>\n",
              "<style scoped>\n",
              "    .dataframe tbody tr th:only-of-type {\n",
              "        vertical-align: middle;\n",
              "    }\n",
              "\n",
              "    .dataframe tbody tr th {\n",
              "        vertical-align: top;\n",
              "    }\n",
              "\n",
              "    .dataframe thead th {\n",
              "        text-align: right;\n",
              "    }\n",
              "</style>\n",
              "<table border=\"1\" class=\"dataframe\">\n",
              "  <thead>\n",
              "    <tr style=\"text-align: right;\">\n",
              "      <th></th>\n",
              "      <th>count</th>\n",
              "    </tr>\n",
              "    <tr>\n",
              "      <th>60</th>\n",
              "      <th></th>\n",
              "    </tr>\n",
              "  </thead>\n",
              "  <tbody>\n",
              "    <tr>\n",
              "      <th>M</th>\n",
              "      <td>111</td>\n",
              "    </tr>\n",
              "    <tr>\n",
              "      <th>R</th>\n",
              "      <td>97</td>\n",
              "    </tr>\n",
              "  </tbody>\n",
              "</table>\n",
              "</div><br><label><b>dtype:</b> int64</label>"
            ]
          },
          "metadata": {},
          "execution_count": 24
        }
      ]
    },
    {
      "cell_type": "code",
      "source": [
        "\n",
        "X = np.asarray(X)\n",
        "# Convert 'R' to 0 and 'M' to 1\n",
        "pd.set_option('future.no_silent_downcasting', True)    #error resolution by gemini\n",
        "Y = training_set[60].replace({'R': 0, 'M': 1})\n",
        "Y = np.asarray(Y)"
      ],
      "metadata": {
        "id": "G6dlJuXiH-ja"
      },
      "execution_count": 28,
      "outputs": []
    },
    {
      "cell_type": "code",
      "source": [
        "def main_function(X, Y, itr):\n",
        "  w = np.zeros(X.shape[1])\n",
        "  b = 0\n",
        "  j_w = 0\n",
        "  j_b = 0\n",
        "\n",
        "  for j in range(itr):\n",
        "    for i in range(X.shape[0]):\n",
        "      temp = np.dot(X[i], w) + b\n",
        "      f = 1 / (1 + np.exp(-temp))\n",
        "      j_w = j_w + (f - Y[i]) * X[i]\n",
        "      j_b = j_b + (f - Y[i])\n",
        "\n",
        "    j_w = j_w / X.shape[0]\n",
        "    j_b = j_b / X.shape[0]\n",
        "\n",
        "\n",
        "    w = w - 0.01 * j_w\n",
        "    b = b - 0.01 * j_b\n",
        "\n",
        "\n",
        "  return w, b\n"
      ],
      "metadata": {
        "id": "JhI-th91H-Zy"
      },
      "execution_count": 26,
      "outputs": []
    },
    {
      "cell_type": "code",
      "source": [
        "w, b = main_function(X, Y, 8000)\n",
        "\n",
        "#Testing;\n",
        "\n",
        "f1 = 1 / (1 + np.exp(-(np.dot(X[0], w) + b)))\n",
        "f2 = 1 / (1 + np.exp(-(np.dot(X[200], w) + b)))\n",
        "f3 = 1 / (1 + np.exp(-(np.dot(X[100], w) + b)))\n",
        "f4 = 1 / (1 + np.exp(-(np.dot(X[70], w) + b)))\n",
        "f5 = 1 / (1 + np.exp(-(np.dot(X[150], w) + b)))\n",
        "\n",
        "arr = np.array([f1, f2, f3, f4, f5])\n",
        "\n",
        "for i in range(arr.shape[0]):\n",
        "  if arr[i] >= 0.5:\n",
        "    print(\"Mine\")\n",
        "  else:\n",
        "    print(\"Rock\")\n"
      ],
      "metadata": {
        "id": "6yMPiAJfH-W6",
        "colab": {
          "base_uri": "https://localhost:8080/"
        },
        "outputId": "be9fad01-9e78-4ccc-8ce7-3766e3aa9223"
      },
      "execution_count": 27,
      "outputs": [
        {
          "output_type": "stream",
          "name": "stdout",
          "text": [
            "Rock\n",
            "Mine\n",
            "Mine\n",
            "Rock\n",
            "Mine\n"
          ]
        }
      ]
    },
    {
      "cell_type": "code",
      "metadata": {
        "id": "1b456c36"
      },
      "source": [],
      "execution_count": 27,
      "outputs": []
    }
  ]
}