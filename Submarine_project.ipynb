{
  "nbformat": 4,
  "nbformat_minor": 0,
  "metadata": {
    "colab": {
      "provenance": [],
      "mount_file_id": "1G80oJLI515Qt4wenAlfpkKPMHZmM_tCQ",
      "authorship_tag": "ABX9TyNkf1NSZWHvzaV3Zj+juvQ4",
      "include_colab_link": true
    },
    "kernelspec": {
      "name": "python3",
      "display_name": "Python 3"
    },
    "language_info": {
      "name": "python"
    }
  },
  "cells": [
    {
      "cell_type": "markdown",
      "metadata": {
        "id": "view-in-github",
        "colab_type": "text"
      },
      "source": [
        "<a href=\"https://colab.research.google.com/github/HimanshuArora-pixel/Machine-learning-Projects/blob/main/Submarine_project.ipynb\" target=\"_parent\"><img src=\"https://colab.research.google.com/assets/colab-badge.svg\" alt=\"Open In Colab\"/></a>"
      ]
    },
    {
      "cell_type": "markdown",
      "source": [
        "We are required to judge wether the object detected by sonar is a rock or Mine from the data given. we are given a training set containing about 60 feature values as inputs and 1 target value as output in end."
      ],
      "metadata": {
        "id": "I8-ch6bIMDG1"
      }
    },
    {
      "cell_type": "code",
      "source": [
        "#first import some important stuff\n",
        "from google.colab import drive\n",
        "drive.mount('/content/drive')"
      ],
      "metadata": {
        "id": "2tNBy8RhMCyV",
        "colab": {
          "base_uri": "https://localhost:8080/"
        },
        "outputId": "4e786f8a-d82a-4176-9b8d-11a0410a8348"
      },
      "execution_count": 12,
      "outputs": [
        {
          "output_type": "stream",
          "name": "stdout",
          "text": [
            "Drive already mounted at /content/drive; to attempt to forcibly remount, call drive.mount(\"/content/drive\", force_remount=True).\n"
          ]
        }
      ]
    },
    {
      "cell_type": "code",
      "execution_count": 13,
      "metadata": {
        "id": "aVWedQvoL1oG"
      },
      "outputs": [],
      "source": [
        "import numpy as np\n",
        "import pandas as pd"
      ]
    },
    {
      "cell_type": "markdown",
      "source": [
        "WE will take this training set from files thorugh pandas"
      ],
      "metadata": {
        "id": "Lg2rEh1YGO0m"
      }
    },
    {
      "cell_type": "code",
      "source": [
        "training_set = pd.read_csv('/content/drive/MyDrive/ML data sets/Copy of sonar data.csv', header = None)"
      ],
      "metadata": {
        "id": "euuGQgswf9ke"
      },
      "execution_count": 14,
      "outputs": []
    },
    {
      "cell_type": "code",
      "source": [
        "#viewing first 5 datas and seeing the size\n",
        "#training_set.head()\n",
        "training_set.shape"
      ],
      "metadata": {
        "id": "tqiHDqJkGAYD",
        "colab": {
          "base_uri": "https://localhost:8080/"
        },
        "outputId": "014d247f-61de-479f-ea37-1408728b4a56"
      },
      "execution_count": 15,
      "outputs": [
        {
          "output_type": "execute_result",
          "data": {
            "text/plain": [
              "(208, 61)"
            ]
          },
          "metadata": {},
          "execution_count": 15
        }
      ]
    },
    {
      "cell_type": "code",
      "source": [
        "X = training_set.drop(columns = 60, axis = 1)\n",
        "Y = training_set[60]"
      ],
      "metadata": {
        "id": "JB2teawMGATb"
      },
      "execution_count": 25,
      "outputs": []
    },
    {
      "cell_type": "code",
      "source": [
        "#checking number of rocks and mines in training set\n",
        "Y.value_counts()"
      ],
      "metadata": {
        "id": "L5dU09mCGAO0",
        "colab": {
          "base_uri": "https://localhost:8080/",
          "height": 178
        },
        "outputId": "356d0aac-994f-424a-c81f-8e2ff7c06cce"
      },
      "execution_count": 17,
      "outputs": [
        {
          "output_type": "execute_result",
          "data": {
            "text/plain": [
              "60\n",
              "M    111\n",
              "R     97\n",
              "Name: count, dtype: int64"
            ],
            "text/html": [
              "<div>\n",
              "<style scoped>\n",
              "    .dataframe tbody tr th:only-of-type {\n",
              "        vertical-align: middle;\n",
              "    }\n",
              "\n",
              "    .dataframe tbody tr th {\n",
              "        vertical-align: top;\n",
              "    }\n",
              "\n",
              "    .dataframe thead th {\n",
              "        text-align: right;\n",
              "    }\n",
              "</style>\n",
              "<table border=\"1\" class=\"dataframe\">\n",
              "  <thead>\n",
              "    <tr style=\"text-align: right;\">\n",
              "      <th></th>\n",
              "      <th>count</th>\n",
              "    </tr>\n",
              "    <tr>\n",
              "      <th>60</th>\n",
              "      <th></th>\n",
              "    </tr>\n",
              "  </thead>\n",
              "  <tbody>\n",
              "    <tr>\n",
              "      <th>M</th>\n",
              "      <td>111</td>\n",
              "    </tr>\n",
              "    <tr>\n",
              "      <th>R</th>\n",
              "      <td>97</td>\n",
              "    </tr>\n",
              "  </tbody>\n",
              "</table>\n",
              "</div><br><label><b>dtype:</b> int64</label>"
            ]
          },
          "metadata": {},
          "execution_count": 17
        }
      ]
    },
    {
      "cell_type": "code",
      "source": [
        "\n",
        "X = np.asarray(X)\n",
        "# Convert 'R' to 0 and 'M' to 1\n",
        "Y = training_set[60].replace({'R': 0, 'M': 1})\n",
        "Y = np.asarray(Y)"
      ],
      "metadata": {
        "id": "G6dlJuXiH-ja"
      },
      "execution_count": 26,
      "outputs": []
    },
    {
      "cell_type": "code",
      "source": [
        "def main_function(X, Y, itr):\n",
        "  w = np.zeros(X.shape[1])\n",
        "  b = 0\n",
        "  j_w = 0\n",
        "  j_b = 0\n",
        "\n",
        "  for j in range(itr):\n",
        "    for i in range(X.shape[0]):\n",
        "      temp = np.dot(X[i], w) + b\n",
        "      f = 1 / (1 + np.exp(-temp))\n",
        "      j_w = j_w + (f - Y[i]) * X[i]\n",
        "      j_b = j_b + (f - Y[i])\n",
        "\n",
        "    j_w = j_w / X.shape[0]\n",
        "    j_b = j_b / X.shape[0]\n",
        "\n",
        "\n",
        "    w = w - 0.01 * j_w\n",
        "    b = b - 0.01 * j_b\n",
        "\n",
        "\n",
        "  return w, b\n"
      ],
      "metadata": {
        "id": "JhI-th91H-Zy"
      },
      "execution_count": 19,
      "outputs": []
    },
    {
      "cell_type": "code",
      "source": [
        "w, b = main_function(X, Y, 8000)\n",
        "\n",
        "if f < 0.5:\n",
        "  print('Rock')\n",
        "else:\n",
        "  print('Mine')"
      ],
      "metadata": {
        "id": "6yMPiAJfH-W6",
        "colab": {
          "base_uri": "https://localhost:8080/"
        },
        "outputId": "46dbb5d8-da08-4168-f338-9ad485463cac"
      },
      "execution_count": 20,
      "outputs": [
        {
          "output_type": "stream",
          "name": "stdout",
          "text": [
            "Rock\n"
          ]
        }
      ]
    },
    {
      "cell_type": "code",
      "metadata": {
        "id": "1b456c36"
      },
      "source": [],
      "execution_count": 20,
      "outputs": []
    }
  ]
}